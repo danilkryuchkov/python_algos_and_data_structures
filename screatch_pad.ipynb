{
 "cells": [
  {
   "cell_type": "code",
   "execution_count": 5,
   "metadata": {},
   "outputs": [
    {
     "name": "stdout",
     "output_type": "stream",
     "text": [
      "4\n",
      "3\n",
      "2\n",
      "1\n",
      "0\n",
      "4\n",
      "3\n",
      "2\n",
      "1\n",
      "0\n"
     ]
    }
   ],
   "source": [
    "stack = [1,2,3,4,5]\n",
    "for i in range(len(stack)-1, -1, -1):\n",
    "        print(i)\n",
    "\n",
    "for i in range(len(stack)-1, -1, -1):\n",
    "        print(i)"
   ]
  },
  {
   "cell_type": "code",
   "execution_count": 9,
   "metadata": {},
   "outputs": [
    {
     "name": "stdout",
     "output_type": "stream",
     "text": [
      "left: 0, right: 4, midpoint: 2\n",
      "left: 3, right: 4, midpoint: 3\n",
      "left: 4, right: 4, midpoint: 4\n",
      "4\n"
     ]
    }
   ],
   "source": [
    "def binary_search(arr, target):\n",
    "    left = 0\n",
    "    right = len(arr) - 1\n",
    "    while left <= right:\n",
    "        midpoint = (right - left)//2 + left # or (left + right) // 2\n",
    "        print(f\"left: {left}, right: {right}, midpoint: {midpoint}\")\n",
    "        if arr[midpoint] == target:\n",
    "            return midpoint\n",
    "        if arr[midpoint] < target:\n",
    "            left = midpoint + 1\n",
    "        else:\n",
    "            right = midpoint -1\n",
    "    return -1\n",
    "\n",
    "arr = [6,8,9,13,14]\n",
    "\n",
    "result = binary_search(arr, 14)\n",
    "print(result)\n",
    "\n"
   ]
  }
 ],
 "metadata": {
  "kernelspec": {
   "display_name": "Python 3",
   "language": "python",
   "name": "python3"
  },
  "language_info": {
   "codemirror_mode": {
    "name": "ipython",
    "version": 3
   },
   "file_extension": ".py",
   "mimetype": "text/x-python",
   "name": "python",
   "nbconvert_exporter": "python",
   "pygments_lexer": "ipython3",
   "version": "3.10.11"
  }
 },
 "nbformat": 4,
 "nbformat_minor": 2
}
